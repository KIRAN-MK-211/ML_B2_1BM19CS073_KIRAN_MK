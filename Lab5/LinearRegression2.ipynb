{
 "cells": [
  {
   "cell_type": "code",
   "execution_count": 1,
   "id": "403548d0",
   "metadata": {},
   "outputs": [],
   "source": [
    "import pandas as pd\n",
    "import numpy as np"
   ]
  },
  {
   "cell_type": "code",
   "execution_count": 13,
   "id": "baf1ccf0",
   "metadata": {},
   "outputs": [],
   "source": [
    "class LR():\n",
    "    def __init__(self):\n",
    "        self.w = []\n",
    "    def fit(self, X, y):\n",
    "        self.w = np.linalg.solve(X.T@X, X.T@y)\n",
    "    def predict(self, X):\n",
    "        return X@self.w\n",
    "    def score(self, X, y):\n",
    "        SS_reg = np.sum((X@self.w - y)**2)\n",
    "        SS_tot = np.sum((y - np.mean(y))**2)\n",
    "        return (1 - (SS_reg/SS_tot))\n",
    "    \n",
    "        "
   ]
  },
  {
   "cell_type": "code",
   "execution_count": 14,
   "id": "edf433e0",
   "metadata": {},
   "outputs": [],
   "source": [
    "from sklearn.model_selection import train_test_split\n",
    "from sklearn.datasets import fetch_california_housing"
   ]
  },
  {
   "cell_type": "code",
   "execution_count": 15,
   "id": "71742dcd",
   "metadata": {},
   "outputs": [],
   "source": [
    "?fetch_california_housing"
   ]
  },
  {
   "cell_type": "code",
   "execution_count": 16,
   "id": "cdcc05bc",
   "metadata": {},
   "outputs": [],
   "source": [
    "data, labels = fetch_california_housing(return_X_y = True)"
   ]
  },
  {
   "cell_type": "code",
   "execution_count": 23,
   "id": "a6aaaa47",
   "metadata": {},
   "outputs": [
    {
     "data": {
      "text/plain": [
       "((20640, 9), (20640,))"
      ]
     },
     "execution_count": 23,
     "metadata": {},
     "output_type": "execute_result"
    }
   ],
   "source": [
    "data.shape, labels.shape"
   ]
  },
  {
   "cell_type": "code",
   "execution_count": 22,
   "id": "f0423b5e",
   "metadata": {},
   "outputs": [],
   "source": [
    "one = np.ones(data.shape[0])\n",
    "data = np.column_stack((one, data))"
   ]
  },
  {
   "cell_type": "code",
   "execution_count": 26,
   "id": "5e509731",
   "metadata": {},
   "outputs": [],
   "source": [
    "X_train,X_test, y_train, y_test = train_test_split(data, labels, train_size = 0.75, random_state = 42)"
   ]
  },
  {
   "cell_type": "code",
   "execution_count": 27,
   "id": "bdebe388",
   "metadata": {},
   "outputs": [],
   "source": [
    "lro = LR()\n",
    "lro.fit(X_train, y_train)"
   ]
  },
  {
   "cell_type": "code",
   "execution_count": 28,
   "id": "60662c2c",
   "metadata": {},
   "outputs": [
    {
     "data": {
      "text/plain": [
       "array([-3.70278276e+01,  4.47600069e-01,  9.56752596e-03, -1.24755956e-01,\n",
       "        7.94471254e-01, -1.43902596e-06, -3.44307993e-03, -4.18555257e-01,\n",
       "       -4.33405135e-01])"
      ]
     },
     "execution_count": 28,
     "metadata": {},
     "output_type": "execute_result"
    }
   ],
   "source": [
    "lro.w"
   ]
  },
  {
   "cell_type": "code",
   "execution_count": 29,
   "id": "5cbc875d",
   "metadata": {},
   "outputs": [
    {
     "data": {
      "text/plain": [
       "array([0.72412832, 1.76677807, 2.71151581, ..., 1.72382152, 2.34689276,\n",
       "       3.52917352])"
      ]
     },
     "execution_count": 29,
     "metadata": {},
     "output_type": "execute_result"
    }
   ],
   "source": [
    "lro.predict(X_test)"
   ]
  },
  {
   "cell_type": "code",
   "execution_count": 30,
   "id": "0627962e",
   "metadata": {},
   "outputs": [
    {
     "data": {
      "text/plain": [
       "0.5910509795491321"
      ]
     },
     "execution_count": 30,
     "metadata": {},
     "output_type": "execute_result"
    }
   ],
   "source": [
    "lro.score(X_test, y_test)"
   ]
  },
  {
   "cell_type": "code",
   "execution_count": null,
   "id": "41356943",
   "metadata": {},
   "outputs": [],
   "source": [
    "  "
   ]
  }
 ],
 "metadata": {
  "kernelspec": {
   "display_name": "Python 3 (ipykernel)",
   "language": "python",
   "name": "python3"
  },
  "language_info": {
   "codemirror_mode": {
    "name": "ipython",
    "version": 3
   },
   "file_extension": ".py",
   "mimetype": "text/x-python",
   "name": "python",
   "nbconvert_exporter": "python",
   "pygments_lexer": "ipython3",
   "version": "3.9.7"
  }
 },
 "nbformat": 4,
 "nbformat_minor": 5
}
