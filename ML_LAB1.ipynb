{
  "nbformat": 4,
  "nbformat_minor": 0,
  "metadata": {
    "colab": {
      "name": "ML-LAB1.ipynb",
      "provenance": [],
      "collapsed_sections": []
    },
    "kernelspec": {
      "name": "python3",
      "display_name": "Python 3"
    },
    "language_info": {
      "name": "python"
    }
  },
  "cells": [
    {
      "cell_type": "markdown",
      "source": [
        "#KIRAN M K - 1BM19CS073 \n",
        "#6B2 \n",
        "#MACHINE LEARNING LAB1 "
      ],
      "metadata": {
        "id": "Rfw9LePnUoJ-"
      }
    },
    {
      "cell_type": "markdown",
      "source": [
        "#Question 1: Implement and demonstrate the FIND-S algorithm for finding the most specific hypothesis based on a given set of training data samples.\n"
      ],
      "metadata": {
        "id": "nwgzTaVMXE2_"
      }
    },
    {
      "cell_type": "code",
      "execution_count": 2,
      "metadata": {
        "id": "rLt6MXgpdZ48"
      },
      "outputs": [],
      "source": [
        "import pandas as pd\n",
        "import numpy as np"
      ]
    },
    {
      "cell_type": "markdown",
      "source": [
        "#DATA ENTRY IN CSV FORMAT "
      ],
      "metadata": {
        "id": "i54q0S03UQLR"
      }
    },
    {
      "cell_type": "code",
      "source": [
        "df = pd.read_csv('/content/Lab1_Doc.csv')"
      ],
      "metadata": {
        "id": "mu25ET8BdlzS"
      },
      "execution_count": 3,
      "outputs": []
    },
    {
      "cell_type": "code",
      "source": [
        "df"
      ],
      "metadata": {
        "colab": {
          "base_uri": "https://localhost:8080/",
          "height": 269
        },
        "id": "_WMOB-Qje9F8",
        "outputId": "6ae52d96-a9db-4ed1-c435-d24a82327b94"
      },
      "execution_count": 4,
      "outputs": [
        {
          "output_type": "execute_result",
          "data": {
            "text/plain": [
              "    Color Toughness Fungus Appearance Poisonous\n",
              "0   GREEN      HARD     NO   WRINKLED       YES\n",
              "1   GREEN      HARD    YES     SMOOTH        NO\n",
              "2   BROWN      SOFT     NO   WRINKLED        NO\n",
              "3  ORANGE      HARD     NO   WRINKLED       YES\n",
              "4   GREEN      SOFT    YES     SMOOTH       YES\n",
              "5   GREEN      HARD    YES   WRINKLED       YES\n",
              "6  ORANGE      HARD     NO   WRINKLED       YES"
            ],
            "text/html": [
              "\n",
              "  <div id=\"df-3a0ffd42-3ac9-4be6-8d68-8c038d844221\">\n",
              "    <div class=\"colab-df-container\">\n",
              "      <div>\n",
              "<style scoped>\n",
              "    .dataframe tbody tr th:only-of-type {\n",
              "        vertical-align: middle;\n",
              "    }\n",
              "\n",
              "    .dataframe tbody tr th {\n",
              "        vertical-align: top;\n",
              "    }\n",
              "\n",
              "    .dataframe thead th {\n",
              "        text-align: right;\n",
              "    }\n",
              "</style>\n",
              "<table border=\"1\" class=\"dataframe\">\n",
              "  <thead>\n",
              "    <tr style=\"text-align: right;\">\n",
              "      <th></th>\n",
              "      <th>Color</th>\n",
              "      <th>Toughness</th>\n",
              "      <th>Fungus</th>\n",
              "      <th>Appearance</th>\n",
              "      <th>Poisonous</th>\n",
              "    </tr>\n",
              "  </thead>\n",
              "  <tbody>\n",
              "    <tr>\n",
              "      <th>0</th>\n",
              "      <td>GREEN</td>\n",
              "      <td>HARD</td>\n",
              "      <td>NO</td>\n",
              "      <td>WRINKLED</td>\n",
              "      <td>YES</td>\n",
              "    </tr>\n",
              "    <tr>\n",
              "      <th>1</th>\n",
              "      <td>GREEN</td>\n",
              "      <td>HARD</td>\n",
              "      <td>YES</td>\n",
              "      <td>SMOOTH</td>\n",
              "      <td>NO</td>\n",
              "    </tr>\n",
              "    <tr>\n",
              "      <th>2</th>\n",
              "      <td>BROWN</td>\n",
              "      <td>SOFT</td>\n",
              "      <td>NO</td>\n",
              "      <td>WRINKLED</td>\n",
              "      <td>NO</td>\n",
              "    </tr>\n",
              "    <tr>\n",
              "      <th>3</th>\n",
              "      <td>ORANGE</td>\n",
              "      <td>HARD</td>\n",
              "      <td>NO</td>\n",
              "      <td>WRINKLED</td>\n",
              "      <td>YES</td>\n",
              "    </tr>\n",
              "    <tr>\n",
              "      <th>4</th>\n",
              "      <td>GREEN</td>\n",
              "      <td>SOFT</td>\n",
              "      <td>YES</td>\n",
              "      <td>SMOOTH</td>\n",
              "      <td>YES</td>\n",
              "    </tr>\n",
              "    <tr>\n",
              "      <th>5</th>\n",
              "      <td>GREEN</td>\n",
              "      <td>HARD</td>\n",
              "      <td>YES</td>\n",
              "      <td>WRINKLED</td>\n",
              "      <td>YES</td>\n",
              "    </tr>\n",
              "    <tr>\n",
              "      <th>6</th>\n",
              "      <td>ORANGE</td>\n",
              "      <td>HARD</td>\n",
              "      <td>NO</td>\n",
              "      <td>WRINKLED</td>\n",
              "      <td>YES</td>\n",
              "    </tr>\n",
              "  </tbody>\n",
              "</table>\n",
              "</div>\n",
              "      <button class=\"colab-df-convert\" onclick=\"convertToInteractive('df-3a0ffd42-3ac9-4be6-8d68-8c038d844221')\"\n",
              "              title=\"Convert this dataframe to an interactive table.\"\n",
              "              style=\"display:none;\">\n",
              "        \n",
              "  <svg xmlns=\"http://www.w3.org/2000/svg\" height=\"24px\"viewBox=\"0 0 24 24\"\n",
              "       width=\"24px\">\n",
              "    <path d=\"M0 0h24v24H0V0z\" fill=\"none\"/>\n",
              "    <path d=\"M18.56 5.44l.94 2.06.94-2.06 2.06-.94-2.06-.94-.94-2.06-.94 2.06-2.06.94zm-11 1L8.5 8.5l.94-2.06 2.06-.94-2.06-.94L8.5 2.5l-.94 2.06-2.06.94zm10 10l.94 2.06.94-2.06 2.06-.94-2.06-.94-.94-2.06-.94 2.06-2.06.94z\"/><path d=\"M17.41 7.96l-1.37-1.37c-.4-.4-.92-.59-1.43-.59-.52 0-1.04.2-1.43.59L10.3 9.45l-7.72 7.72c-.78.78-.78 2.05 0 2.83L4 21.41c.39.39.9.59 1.41.59.51 0 1.02-.2 1.41-.59l7.78-7.78 2.81-2.81c.8-.78.8-2.07 0-2.86zM5.41 20L4 18.59l7.72-7.72 1.47 1.35L5.41 20z\"/>\n",
              "  </svg>\n",
              "      </button>\n",
              "      \n",
              "  <style>\n",
              "    .colab-df-container {\n",
              "      display:flex;\n",
              "      flex-wrap:wrap;\n",
              "      gap: 12px;\n",
              "    }\n",
              "\n",
              "    .colab-df-convert {\n",
              "      background-color: #E8F0FE;\n",
              "      border: none;\n",
              "      border-radius: 50%;\n",
              "      cursor: pointer;\n",
              "      display: none;\n",
              "      fill: #1967D2;\n",
              "      height: 32px;\n",
              "      padding: 0 0 0 0;\n",
              "      width: 32px;\n",
              "    }\n",
              "\n",
              "    .colab-df-convert:hover {\n",
              "      background-color: #E2EBFA;\n",
              "      box-shadow: 0px 1px 2px rgba(60, 64, 67, 0.3), 0px 1px 3px 1px rgba(60, 64, 67, 0.15);\n",
              "      fill: #174EA6;\n",
              "    }\n",
              "\n",
              "    [theme=dark] .colab-df-convert {\n",
              "      background-color: #3B4455;\n",
              "      fill: #D2E3FC;\n",
              "    }\n",
              "\n",
              "    [theme=dark] .colab-df-convert:hover {\n",
              "      background-color: #434B5C;\n",
              "      box-shadow: 0px 1px 3px 1px rgba(0, 0, 0, 0.15);\n",
              "      filter: drop-shadow(0px 1px 2px rgba(0, 0, 0, 0.3));\n",
              "      fill: #FFFFFF;\n",
              "    }\n",
              "  </style>\n",
              "\n",
              "      <script>\n",
              "        const buttonEl =\n",
              "          document.querySelector('#df-3a0ffd42-3ac9-4be6-8d68-8c038d844221 button.colab-df-convert');\n",
              "        buttonEl.style.display =\n",
              "          google.colab.kernel.accessAllowed ? 'block' : 'none';\n",
              "\n",
              "        async function convertToInteractive(key) {\n",
              "          const element = document.querySelector('#df-3a0ffd42-3ac9-4be6-8d68-8c038d844221');\n",
              "          const dataTable =\n",
              "            await google.colab.kernel.invokeFunction('convertToInteractive',\n",
              "                                                     [key], {});\n",
              "          if (!dataTable) return;\n",
              "\n",
              "          const docLinkHtml = 'Like what you see? Visit the ' +\n",
              "            '<a target=\"_blank\" href=https://colab.research.google.com/notebooks/data_table.ipynb>data table notebook</a>'\n",
              "            + ' to learn more about interactive tables.';\n",
              "          element.innerHTML = '';\n",
              "          dataTable['output_type'] = 'display_data';\n",
              "          await google.colab.output.renderOutput(dataTable, element);\n",
              "          const docLink = document.createElement('div');\n",
              "          docLink.innerHTML = docLinkHtml;\n",
              "          element.appendChild(docLink);\n",
              "        }\n",
              "      </script>\n",
              "    </div>\n",
              "  </div>\n",
              "  "
            ]
          },
          "metadata": {},
          "execution_count": 4
        }
      ]
    },
    {
      "cell_type": "code",
      "source": [
        "'''CSV FILE DATA'''\n",
        "hypo = []\n",
        "for i in range(len(df.columns)-1):\n",
        "  if type(i) == str:\n",
        "    hypo.append(\"Null\")\n",
        "  elif type(i) == int:\n",
        "    hypo.append(0)\n",
        "  else:\n",
        "    hypo.append(0.0)\n",
        "\n",
        "for i in range(len(df)):\n",
        "  if df.loc[i, 'Poisonous'] == \"YES\":\n",
        "    for j in range(len(hypo)):\n",
        "      if hypo[j] == \"Null\":\n",
        "        hypo[j] = df.iloc[i, j]\n",
        "      elif hypo[j] != df.iloc[i,j]:\n",
        "        hypo[j] = \"?\"\n",
        "print(\"The hypothesis for the given data: \", hypo)"
      ],
      "metadata": {
        "id": "42ZoglSwfDE0",
        "colab": {
          "base_uri": "https://localhost:8080/"
        },
        "outputId": "754ecc09-eab9-45f5-e817-99929be3332d"
      },
      "execution_count": 14,
      "outputs": [
        {
          "output_type": "stream",
          "name": "stdout",
          "text": [
            "The hypothesis for the given data:  ['?', '?', '?', '?']\n"
          ]
        }
      ]
    },
    {
      "cell_type": "markdown",
      "source": [
        "#MANUAL ENTRY OF DATA"
      ],
      "metadata": {
        "id": "whngU7DKT3wY"
      }
    },
    {
      "cell_type": "code",
      "source": [
        "'''Input data entering'''\n",
        "n = int(input(\"Enter the no of samples: \"))\n",
        "m = int(input(\"Enter the no of attributes: \"))\n",
        "#c = input(\"Are all attributes of string data type? Enter yes or no\")\n",
        "X = []\n",
        "print(\"Enter the data\")\n",
        "for i in range(n):\n",
        "  \n",
        "  print(\"Sample no.\", str(i+1))\n",
        "  p = \"Enter the value of attributes with a comma seperation: \"\n",
        "  inp = input(p).split(\",\")\n",
        "  X.append(inp)\n",
        "print(X)\n",
        "'''Data input taking'''\n",
        "hypo1 = []\n",
        "for i in range(len(X[0])-1):\n",
        "  if type(i) == str:\n",
        "    hypo1.append(\"Null\")\n",
        "  elif type(i) == int:\n",
        "    hypo1.append(0)\n",
        "  else:\n",
        "    hypo1.append(0.0)\n",
        "\n",
        "for i in range(len(X)):\n",
        "  if X[i][-1] == \"YES\":\n",
        "    for j in range(len(hypo1)):\n",
        "      if hypo1[j] == \"Null\":\n",
        "        \n",
        "        hypo1[j] = X[i][j]\n",
        "      elif hypo1[j] != X[i][j]:\n",
        "        \n",
        "        hypo1[j] = \"?\"\n",
        "    \n",
        "print(\"The hypothesis after iterating through the dataset\", hypo1)"
      ],
      "metadata": {
        "colab": {
          "base_uri": "https://localhost:8080/"
        },
        "id": "pHDTxzS02AKx",
        "outputId": "ae38251a-f230-4d4e-902b-e597d190ccb0"
      },
      "execution_count": 18,
      "outputs": [
        {
          "output_type": "stream",
          "name": "stdout",
          "text": [
            "Enter the no of samples: 7\n",
            "Enter the no of attributes: 5\n",
            "Enter the data\n",
            "Sample no. 1\n",
            "Enter the value of attributes with a comma seperation: GREEN,HARD,NO,WRINKLED,YES\n",
            "Sample no. 2\n",
            "Enter the value of attributes with a comma seperation: GREEN,HARD,YES,SMOOTH,NO\n",
            "Sample no. 3\n",
            "Enter the value of attributes with a comma seperation: BROWN,SOFT,NO,WRINKLED,NO\n",
            "Sample no. 4\n",
            "Enter the value of attributes with a comma seperation: ORANGE,HARD,NO,WRINKLED,YES\n",
            "Sample no. 5\n",
            "Enter the value of attributes with a comma seperation: GREEN,SOFT,YES,SMOOTH,YES\n",
            "Sample no. 6\n",
            "Enter the value of attributes with a comma seperation: GREEN,HARD,YES,WRINKLED,YES\n",
            "Sample no. 7\n",
            "Enter the value of attributes with a comma seperation: ORANGE,HARD,NO,WRINKLED,YES\n",
            "[['GREEN', 'HARD', 'NO', 'WRINKLED', 'YES'], ['GREEN', 'HARD', 'YES', 'SMOOTH', 'NO'], ['BROWN', 'SOFT', 'NO', 'WRINKLED', 'NO'], ['ORANGE', 'HARD', 'NO', 'WRINKLED', 'YES'], ['GREEN', 'SOFT', 'YES', 'SMOOTH', 'YES'], ['GREEN', 'HARD', 'YES', 'WRINKLED', 'YES'], ['ORANGE', 'HARD', 'NO', 'WRINKLED', 'YES']]\n",
            "The hypothesis after iterating through the dataset ['?', '?', '?', '?']\n"
          ]
        }
      ]
    },
    {
      "cell_type": "code",
      "source": [
        "5"
      ],
      "metadata": {
        "id": "x4hggpc3g8w9"
      },
      "execution_count": null,
      "outputs": []
    },
    {
      "cell_type": "code",
      "source": [
        ""
      ],
      "metadata": {
        "id": "gedjyxK6ztUR"
      },
      "execution_count": null,
      "outputs": []
    }
  ]
}